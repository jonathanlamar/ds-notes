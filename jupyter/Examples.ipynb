{
 "cells": [
  {
   "cell_type": "markdown",
   "id": "quarterly-riding",
   "metadata": {},
   "source": [
    "# Example Computations"
   ]
  },
  {
   "cell_type": "code",
   "execution_count": null,
   "id": "demanding-corporation",
   "metadata": {},
   "outputs": [],
   "source": [
    "import numpy as np\n",
    "import pandas as pd\n",
    "\n",
    "import matplotlib.pyplot as plt\n",
    "from jupyterthemes import jtplot\n",
    "jtplot.style(ticks=True, grid=True, gridlines='--')\n",
    "\n",
    "from sklearn.cluster import KMeans\n",
    "from sklearn.decomposition import PCA"
   ]
  },
  {
   "cell_type": "markdown",
   "id": "listed-border",
   "metadata": {},
   "source": [
    "## Prepping a Toy Dataset"
   ]
  },
  {
   "cell_type": "code",
   "execution_count": null,
   "id": "norwegian-brunswick",
   "metadata": {},
   "outputs": [],
   "source": [
    "creditCardDf = pd.read_csv('./data/CC GENERAL.csv').set_index('CUST_ID')"
   ]
  },
  {
   "cell_type": "code",
   "execution_count": null,
   "id": "auburn-contest",
   "metadata": {},
   "outputs": [],
   "source": [
    "creditCardDf.shape"
   ]
  },
  {
   "cell_type": "code",
   "execution_count": null,
   "id": "threatened-ladder",
   "metadata": {},
   "outputs": [],
   "source": [
    "pd.DataFrame({\n",
    "    'type' : creditCardDf.dtypes,\n",
    "    'num_null' : creditCardDf.isnull().sum()\n",
    "})"
   ]
  },
  {
   "cell_type": "code",
   "execution_count": null,
   "id": "speaking-details",
   "metadata": {},
   "outputs": [],
   "source": [
    "creditCardDf['MINIMUM_PAYMENTS'].fillna(0, inplace=True)\n",
    "creditCardDf['CREDIT_LIMIT'].fillna(creditCardDf['CREDIT_LIMIT'].mean(), inplace=True)"
   ]
  },
  {
   "cell_type": "markdown",
   "id": "cathedral-extraction",
   "metadata": {},
   "source": [
    "## PCA"
   ]
  },
  {
   "cell_type": "markdown",
   "id": "paperback-shirt",
   "metadata": {},
   "source": [
    "### Doing it Manually"
   ]
  },
  {
   "cell_type": "code",
   "execution_count": null,
   "id": "tender-listening",
   "metadata": {},
   "outputs": [],
   "source": [
    "X = creditCardDf.values"
   ]
  },
  {
   "cell_type": "code",
   "execution_count": null,
   "id": "genetic-equipment",
   "metadata": {},
   "outputs": [],
   "source": [
    "X = (X - X.mean(axis=0))"
   ]
  },
  {
   "cell_type": "code",
   "execution_count": null,
   "id": "optimum-discussion",
   "metadata": {},
   "outputs": [],
   "source": [
    "Sigma = np.dot(X.T, X) / X.shape[0]"
   ]
  },
  {
   "cell_type": "code",
   "execution_count": null,
   "id": "atomic-immune",
   "metadata": {},
   "outputs": [],
   "source": [
    "eigValues, eigVectors = np.linalg.eig(Sigma)"
   ]
  },
  {
   "cell_type": "code",
   "execution_count": null,
   "id": "round-treasure",
   "metadata": {},
   "outputs": [],
   "source": [
    "plt.figure()\n",
    "plt.plot(eigValues)"
   ]
  },
  {
   "cell_type": "markdown",
   "id": "raising-china",
   "metadata": {},
   "source": [
    "### Comparing to PCA package"
   ]
  },
  {
   "cell_type": "code",
   "execution_count": null,
   "id": "parliamentary-summit",
   "metadata": {},
   "outputs": [],
   "source": [
    "pca = PCA().fit(X)"
   ]
  },
  {
   "cell_type": "code",
   "execution_count": null,
   "id": "secure-browse",
   "metadata": {},
   "outputs": [],
   "source": [
    "plt.figure()\n",
    "plt.plot(range(len(eigValues)), eigValues, label='manual')\n",
    "plt.scatter(range(len(pca.explained_variance_)), pca.explained_variance_, label='sklearn')\n",
    "plt.title('Eigenvalues are identical')\n",
    "plt.legend()"
   ]
  },
  {
   "cell_type": "code",
   "execution_count": null,
   "id": "published-tooth",
   "metadata": {},
   "outputs": [],
   "source": [
    "plt.figure()\n",
    "plt.imshow(np.abs(pca.components_.T - eigVectors))\n",
    "plt.colorbar()\n",
    "plt.title('Eigenvectors seem to mostly agree')"
   ]
  },
  {
   "cell_type": "code",
   "execution_count": null,
   "id": "removable-pitch",
   "metadata": {},
   "outputs": [],
   "source": [
    "perm = np.dot(np.linalg.inv(eigVectors), pca.components_.T)\n",
    "\n",
    "plt.figure()\n",
    "plt.imshow(perm)\n",
    "plt.colorbar()\n",
    "plt.title('They differ by a signed permutation matrix.')"
   ]
  },
  {
   "cell_type": "markdown",
   "id": "orange-coaching",
   "metadata": {},
   "source": [
    "I get the signed part, since that is arbitrary.  Shouldn't the eigenvectors be more or less ordered though?  I guess one of the eigenspaces has dimension 2, which is surprising to me.  Oh duh, the matrix is not full rank, so the eigenvectors in the kernel probably get assigned some eigenvalues that are below the threshold for floating point arithmetic error."
   ]
  }
 ],
 "metadata": {
  "kernelspec": {
   "display_name": "Python 3",
   "language": "python",
   "name": "python3"
  },
  "language_info": {
   "codemirror_mode": {
    "name": "ipython",
    "version": 3
   },
   "file_extension": ".py",
   "mimetype": "text/x-python",
   "name": "python",
   "nbconvert_exporter": "python",
   "pygments_lexer": "ipython3",
   "version": "3.9.5"
  }
 },
 "nbformat": 4,
 "nbformat_minor": 5
}
